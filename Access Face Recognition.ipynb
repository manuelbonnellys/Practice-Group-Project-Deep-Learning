{
 "cells": [
  {
   "cell_type": "code",
   "execution_count": 19,
   "id": "2b6cd8d6",
   "metadata": {},
   "outputs": [
    {
     "name": "stdout",
     "output_type": "stream",
     "text": [
      "Using cpu\n"
     ]
    }
   ],
   "source": [
    "import torch, cv2, numpy as np, os, time, sys, json, pathlib\n",
    "\n",
    "from facenet_pytorch import MTCNN, InceptionResnetV1\n",
    "\n",
    "device = torch.device('cuda:0' if torch.cuda.is_available() else 'cpu')\n",
    "print(\"Using\", device)\n",
    "\n",
    "\n",
    "mtcnn  = MTCNN(image_size=160, margin=14, post_process=True, device=device)\n",
    "embed  = InceptionResnetV1(pretrained='vggface2').eval().to(device)"
   ]
  },
  {
   "cell_type": "code",
   "execution_count": null,
   "id": "ca73040c",
   "metadata": {},
   "outputs": [
    {
     "name": "stdout",
     "output_type": "stream",
     "text": [
      "✅  Enrolled 4 users: Can, Jeff, Owner, Riccardo\n"
     ]
    }
   ],
   "source": [
    "refs_path = pathlib.Path(\"refs\")\n",
    "refs_path.mkdir(exist_ok=True)\n",
    "\n",
    "ref_db = {}\n",
    "\n",
    "for jpg in refs_path.glob(\"*.jpg\"):\n",
    "    name          = jpg.stem\n",
    "    img_bgr       = cv2.imread(str(jpg))\n",
    "    img_rgb       = cv2.cvtColor(img_bgr, cv2.COLOR_BGR2RGB)\n",
    "    face          = mtcnn(img_rgb)\n",
    "    if face is None:\n",
    "        raise ValueError(f\"No face found in {jpg.name}\")\n",
    "    vec           = embed(face.unsqueeze(0).to(device))[0]\n",
    "    ref_db[name]  = (vec / vec.norm()).cpu()\n",
    "\n",
    "np.save(\"ref_db.npy\", ref_db)\n",
    "print(f\"✅  Enrolled {len(ref_db)} users:\", \", \".join(ref_db))"
   ]
  },
  {
   "cell_type": "code",
   "execution_count": null,
   "id": "e6ec01f8",
   "metadata": {},
   "outputs": [
    {
     "name": "stdout",
     "output_type": "stream",
     "text": [
      "AUC = 1.0\n"
     ]
    },
    {
     "data": {
      "image/png": "[encoded data removed]",
      "text/plain": [
       "<Figure size 640x480 with 1 Axes>"
      ]
     },
     "metadata": {},
     "output_type": "display_data"
    },
    {
     "name": "stdout",
     "output_type": "stream",
     "text": [
      "Chosen θ = 0.65\n"
     ]
    }
   ],
   "source": [
    "\n",
    "from glob import glob\n",
    "from sklearn.metrics import roc_curve, auc\n",
    "import matplotlib.pyplot as plt\n",
    "\n",
    "def cosine(u, v): return float(torch.dot(u, v))\n",
    "\n",
    "y_true, y_score = [], []\n",
    "for fn in glob(\"val_pos/*.jpg\") + glob(\"val_neg/*.jpg\"):\n",
    "    img = cv2.cvtColor(cv2.imread(fn), cv2.COLOR_BGR2RGB)\n",
    "    face = mtcnn(img);  vec = embed(face.unsqueeze(0).to(device))[0]\n",
    "    vec = vec / vec.norm()\n",
    "    score = max(cosine(vec, e) for e in ref_db.values())\n",
    "    y_score.append(score)\n",
    "    y_true.append(int(\"val_pos\" in fn))\n",
    "\n",
    "fpr, tpr, _ = roc_curve(y_true, y_score)\n",
    "print(\"AUC =\", auc(fpr, tpr))\n",
    "\n",
    "plt.plot(fpr, tpr); plt.xlabel(\"FPR\"); plt.ylabel(\"TPR\"); plt.title(\"ROC\");\n",
    "plt.grid(); plt.show()\n",
    "\n",
    "θ = 0.65  # threshold for cosine similarity\n",
    "print(\"Chosen θ =\", θ)"
   ]
  },
  {
   "cell_type": "code",
   "execution_count": null,
   "id": "a913daaa",
   "metadata": {},
   "outputs": [
    {
     "name": "stderr",
     "output_type": "stream",
     "text": [
      "C:\\Users\\manub\\AppData\\Local\\Temp\\ipykernel_17808\\1732093623.py:27: UserWarning: To copy construct from a tensor, it is recommended to use sourceTensor.clone().detach() or sourceTensor.clone().detach().requires_grad_(True), rather than torch.tensor(sourceTensor).\n",
      "  ref_db = {k: torch.tensor(v).to(device) for k, v in ref_db.items()}\n"
     ]
    },
    {
     "name": "stdout",
     "output_type": "stream",
     "text": [
      "▶️ Press ESC to quit\n",
      "✅ Owner @ 14:56:04  (sim=0.915)\n",
      "🔓  Door unlocked (simulated) for 2s\n",
      "✅ Owner @ 14:56:04  (sim=0.902)\n",
      "🔓  Door unlocked (simulated) for 2s\n",
      "✅ Owner @ 14:56:04  (sim=0.915)\n",
      "🔓  Door unlocked (simulated) for 2s\n",
      "✅ Owner @ 14:56:04  (sim=0.922)\n",
      "🔓  Door unlocked (simulated) for 2s\n",
      "✅ Owner @ 14:56:04  (sim=0.900)\n",
      "🔓  Door unlocked (simulated) for 2s\n",
      "✅ Owner @ 14:56:04  (sim=0.891)\n",
      "🔓  Door unlocked (simulated) for 2s\n",
      "✅ Owner @ 14:56:05  (sim=0.854)\n",
      "🔓  Door unlocked (simulated) for 2s\n",
      "✅ Owner @ 14:56:05  (sim=0.905)\n",
      "🔓  Door unlocked (simulated) for 2s\n",
      "✅ Owner @ 14:56:05  (sim=0.911)\n",
      "🔓  Door unlocked (simulated) for 2s\n",
      "✅ Owner @ 14:56:05  (sim=0.932)\n",
      "🔓  Door unlocked (simulated) for 2s\n",
      "✅ Owner @ 14:56:06  (sim=0.910)\n",
      "🔓  Door unlocked (simulated) for 2s\n",
      "✅ Owner @ 14:56:06  (sim=0.891)\n",
      "🔓  Door unlocked (simulated) for 2s\n",
      "❌ Unknown face detected @ 14:56:06  (sim=0.000)\n",
      "❌ Unknown face detected @ 14:56:06  (sim=0.000)\n",
      "❌ Unknown face detected @ 14:56:06  (sim=0.000)\n",
      "❌ Unknown face detected @ 14:56:07  (sim=0.000)\n",
      "❌ Unknown face detected @ 14:56:07  (sim=0.006)\n",
      "❌ Unknown face detected @ 14:56:07  (sim=0.202)\n",
      "❌ Unknown face detected @ 14:56:07  (sim=0.234)\n",
      "❌ Unknown face detected @ 14:56:08  (sim=0.290)\n",
      "❌ Someone similar to an enrolled user detected, but not recognized. Access denied.\n",
      "❌ Unknown face detected @ 14:56:08  (sim=0.158)\n",
      "❌ Unknown face detected @ 14:56:08  (sim=0.051)\n",
      "❌ Unknown face detected @ 14:56:08  (sim=0.000)\n",
      "❌ Unknown face detected @ 14:56:09  (sim=0.000)\n",
      "❌ Unknown face detected @ 14:56:09  (sim=0.000)\n",
      "❌ Unknown face detected @ 14:56:09  (sim=0.000)\n",
      "❌ Unknown face detected @ 14:56:09  (sim=0.000)\n",
      "❌ Unknown face detected @ 14:56:10  (sim=0.179)\n",
      "❌ Unknown face detected @ 14:56:10  (sim=0.238)\n",
      "❌ Unknown face detected @ 14:56:11  (sim=0.000)\n",
      "❌ Unknown face detected @ 14:56:11  (sim=0.000)\n",
      "❌ Unknown face detected @ 14:56:11  (sim=0.000)\n",
      "❌ Unknown face detected @ 14:56:11  (sim=0.000)\n",
      "❌ Unknown face detected @ 14:56:12  (sim=0.000)\n",
      "❌ Unknown face detected @ 14:56:12  (sim=0.000)\n",
      "❌ Unknown face detected @ 14:56:12  (sim=0.000)\n",
      "❌ Unknown face detected @ 14:56:12  (sim=0.000)\n",
      "❌ Unknown face detected @ 14:56:13  (sim=0.000)\n",
      "❌ Unknown face detected @ 14:56:13  (sim=0.000)\n",
      "❌ Unknown face detected @ 14:56:13  (sim=0.000)\n",
      "❌ Unknown face detected @ 14:56:13  (sim=0.000)\n",
      "❌ Unknown face detected @ 14:56:13  (sim=0.000)\n",
      "❌ Unknown face detected @ 14:56:14  (sim=0.000)\n",
      "❌ Unknown face detected @ 14:56:14  (sim=0.000)\n",
      "❌ Unknown face detected @ 14:56:14  (sim=0.000)\n",
      "❌ Unknown face detected @ 14:56:14  (sim=0.000)\n",
      "❌ Unknown face detected @ 14:56:15  (sim=0.000)\n",
      "❌ Unknown face detected @ 14:56:15  (sim=0.000)\n",
      "❌ Unknown face detected @ 14:56:15  (sim=0.000)\n",
      "✅ Riccardo @ 14:56:15  (sim=0.662)\n",
      "🔓  Door unlocked (simulated) for 2s\n",
      "✅ Riccardo @ 14:56:16  (sim=0.787)\n",
      "🔓  Door unlocked (simulated) for 2s\n",
      "✅ Riccardo @ 14:56:17  (sim=0.788)\n",
      "🔓  Door unlocked (simulated) for 2s\n",
      "✅ Riccardo @ 14:56:17  (sim=0.774)\n",
      "🔓  Door unlocked (simulated) for 2s\n",
      "❌ Unknown face detected @ 14:56:18  (sim=0.000)\n",
      "❌ Unknown face detected @ 14:56:18  (sim=0.000)\n",
      "❌ Unknown face detected @ 14:56:18  (sim=0.000)\n",
      "❌ Unknown face detected @ 14:56:18  (sim=0.000)\n",
      "❌ Unknown face detected @ 14:56:18  (sim=0.000)\n",
      "❌ Unknown face detected @ 14:56:18  (sim=0.000)\n",
      "✅ Owner @ 14:56:19  (sim=0.715)\n",
      "🔓  Door unlocked (simulated) for 2s\n"
     ]
    },
    {
     "ename": "KeyboardInterrupt",
     "evalue": "",
     "output_type": "error",
     "traceback": [
      "\u001b[31m---------------------------------------------------------------------------\u001b[39m",
      "\u001b[31mKeyboardInterrupt\u001b[39m                         Traceback (most recent call last)",
      "\u001b[36mCell\u001b[39m\u001b[36m \u001b[39m\u001b[32mIn[23]\u001b[39m\u001b[32m, line 50\u001b[39m\n\u001b[32m     48\u001b[39m \u001b[38;5;28;01mwhile\u001b[39;00m \u001b[38;5;28;01mTrue\u001b[39;00m:\n\u001b[32m     49\u001b[39m     ok, frame = cap.read();  \u001b[38;5;28;01massert\u001b[39;00m ok\n\u001b[32m---> \u001b[39m\u001b[32m50\u001b[39m     user, sim = \u001b[43midentify\u001b[49m\u001b[43m(\u001b[49m\u001b[43mframe\u001b[49m\u001b[43m)\u001b[49m\n\u001b[32m     51\u001b[39m     \u001b[38;5;28;01mif\u001b[39;00m user:\n\u001b[32m     52\u001b[39m         \u001b[38;5;28mprint\u001b[39m(\u001b[33mf\u001b[39m\u001b[33m\"\u001b[39m\u001b[33m✅ \u001b[39m\u001b[38;5;132;01m{\u001b[39;00muser\u001b[38;5;132;01m}\u001b[39;00m\u001b[33m @ \u001b[39m\u001b[38;5;132;01m{\u001b[39;00mtime.strftime(\u001b[33m'\u001b[39m\u001b[33m%\u001b[39m\u001b[33mH:\u001b[39m\u001b[33m%\u001b[39m\u001b[33mM:\u001b[39m\u001b[33m%\u001b[39m\u001b[33mS\u001b[39m\u001b[33m'\u001b[39m)\u001b[38;5;132;01m}\u001b[39;00m\u001b[33m  (sim=\u001b[39m\u001b[38;5;132;01m{\u001b[39;00msim\u001b[38;5;132;01m:\u001b[39;00m\u001b[33m.3f\u001b[39m\u001b[38;5;132;01m}\u001b[39;00m\u001b[33m)\u001b[39m\u001b[33m\"\u001b[39m)\n",
      "\u001b[36mCell\u001b[39m\u001b[36m \u001b[39m\u001b[32mIn[23]\u001b[39m\u001b[32m, line 38\u001b[39m, in \u001b[36midentify\u001b[39m\u001b[34m(frame_bgr)\u001b[39m\n\u001b[32m     36\u001b[39m face = mtcnn(cv2.cvtColor(frame_bgr, cv2.COLOR_BGR2RGB))\n\u001b[32m     37\u001b[39m \u001b[38;5;28;01mif\u001b[39;00m face \u001b[38;5;129;01mis\u001b[39;00m \u001b[38;5;28;01mNone\u001b[39;00m: \u001b[38;5;28;01mreturn\u001b[39;00m \u001b[38;5;28;01mNone\u001b[39;00m, \u001b[32m0.0\u001b[39m\n\u001b[32m---> \u001b[39m\u001b[32m38\u001b[39m vec  = \u001b[43membed\u001b[49m\u001b[43m(\u001b[49m\u001b[43mface\u001b[49m\u001b[43m.\u001b[49m\u001b[43munsqueeze\u001b[49m\u001b[43m(\u001b[49m\u001b[32;43m0\u001b[39;49m\u001b[43m)\u001b[49m\u001b[43m.\u001b[49m\u001b[43mto\u001b[49m\u001b[43m(\u001b[49m\u001b[43mdevice\u001b[49m\u001b[43m)\u001b[49m\u001b[43m)\u001b[49m[\u001b[32m0\u001b[39m]\n\u001b[32m     39\u001b[39m vec  = vec / vec.norm()\n\u001b[32m     40\u001b[39m name, score = \u001b[38;5;28mmax\u001b[39m(\n\u001b[32m     41\u001b[39m     ((n, \u001b[38;5;28mfloat\u001b[39m(torch.dot(vec, e))) \u001b[38;5;28;01mfor\u001b[39;00m n, e \u001b[38;5;129;01min\u001b[39;00m ref_db.items()),\n\u001b[32m     42\u001b[39m     key=\u001b[38;5;28;01mlambda\u001b[39;00m t: t[\u001b[32m1\u001b[39m]\n\u001b[32m     43\u001b[39m )\n",
      "\u001b[36mFile \u001b[39m\u001b[32mc:\\Users\\manub\\.conda\\envs\\deep_learning_project\\Lib\\site-packages\\torch\\nn\\modules\\module.py:1511\u001b[39m, in \u001b[36mModule._wrapped_call_impl\u001b[39m\u001b[34m(self, *args, **kwargs)\u001b[39m\n\u001b[32m   1509\u001b[39m     \u001b[38;5;28;01mreturn\u001b[39;00m \u001b[38;5;28mself\u001b[39m._compiled_call_impl(*args, **kwargs)  \u001b[38;5;66;03m# type: ignore[misc]\u001b[39;00m\n\u001b[32m   1510\u001b[39m \u001b[38;5;28;01melse\u001b[39;00m:\n\u001b[32m-> \u001b[39m\u001b[32m1511\u001b[39m     \u001b[38;5;28;01mreturn\u001b[39;00m \u001b[38;5;28;43mself\u001b[39;49m\u001b[43m.\u001b[49m\u001b[43m_call_impl\u001b[49m\u001b[43m(\u001b[49m\u001b[43m*\u001b[49m\u001b[43margs\u001b[49m\u001b[43m,\u001b[49m\u001b[43m \u001b[49m\u001b[43m*\u001b[49m\u001b[43m*\u001b[49m\u001b[43mkwargs\u001b[49m\u001b[43m)\u001b[49m\n",
      "\u001b[36mFile \u001b[39m\u001b[32mc:\\Users\\manub\\.conda\\envs\\deep_learning_project\\Lib\\site-packages\\torch\\nn\\modules\\module.py:1520\u001b[39m, in \u001b[36mModule._call_impl\u001b[39m\u001b[34m(self, *args, **kwargs)\u001b[39m\n\u001b[32m   1515\u001b[39m \u001b[38;5;66;03m# If we don't have any hooks, we want to skip the rest of the logic in\u001b[39;00m\n\u001b[32m   1516\u001b[39m \u001b[38;5;66;03m# this function, and just call forward.\u001b[39;00m\n\u001b[32m   1517\u001b[39m \u001b[38;5;28;01mif\u001b[39;00m \u001b[38;5;129;01mnot\u001b[39;00m (\u001b[38;5;28mself\u001b[39m._backward_hooks \u001b[38;5;129;01mor\u001b[39;00m \u001b[38;5;28mself\u001b[39m._backward_pre_hooks \u001b[38;5;129;01mor\u001b[39;00m \u001b[38;5;28mself\u001b[39m._forward_hooks \u001b[38;5;129;01mor\u001b[39;00m \u001b[38;5;28mself\u001b[39m._forward_pre_hooks\n\u001b[32m   1518\u001b[39m         \u001b[38;5;129;01mor\u001b[39;00m _global_backward_pre_hooks \u001b[38;5;129;01mor\u001b[39;00m _global_backward_hooks\n\u001b[32m   1519\u001b[39m         \u001b[38;5;129;01mor\u001b[39;00m _global_forward_hooks \u001b[38;5;129;01mor\u001b[39;00m _global_forward_pre_hooks):\n\u001b[32m-> \u001b[39m\u001b[32m1520\u001b[39m     \u001b[38;5;28;01mreturn\u001b[39;00m \u001b[43mforward_call\u001b[49m\u001b[43m(\u001b[49m\u001b[43m*\u001b[49m\u001b[43margs\u001b[49m\u001b[43m,\u001b[49m\u001b[43m \u001b[49m\u001b[43m*\u001b[49m\u001b[43m*\u001b[49m\u001b[43mkwargs\u001b[49m\u001b[43m)\u001b[49m\n\u001b[32m   1522\u001b[39m \u001b[38;5;28;01mtry\u001b[39;00m:\n\u001b[32m   1523\u001b[39m     result = \u001b[38;5;28;01mNone\u001b[39;00m\n",
      "\u001b[36mFile \u001b[39m\u001b[32mc:\\Users\\manub\\.conda\\envs\\deep_learning_project\\Lib\\site-packages\\facenet_pytorch\\models\\inception_resnet_v1.py:291\u001b[39m, in \u001b[36mInceptionResnetV1.forward\u001b[39m\u001b[34m(self, x)\u001b[39m\n\u001b[32m    289\u001b[39m x = \u001b[38;5;28mself\u001b[39m.mixed_6a(x)\n\u001b[32m    290\u001b[39m x = \u001b[38;5;28mself\u001b[39m.repeat_2(x)\n\u001b[32m--> \u001b[39m\u001b[32m291\u001b[39m x = \u001b[38;5;28;43mself\u001b[39;49m\u001b[43m.\u001b[49m\u001b[43mmixed_7a\u001b[49m\u001b[43m(\u001b[49m\u001b[43mx\u001b[49m\u001b[43m)\u001b[49m\n\u001b[32m    292\u001b[39m x = \u001b[38;5;28mself\u001b[39m.repeat_3(x)\n\u001b[32m    293\u001b[39m x = \u001b[38;5;28mself\u001b[39m.block8(x)\n",
      "\u001b[36mFile \u001b[39m\u001b[32mc:\\Users\\manub\\.conda\\envs\\deep_learning_project\\Lib\\site-packages\\torch\\nn\\modules\\module.py:1511\u001b[39m, in \u001b[36mModule._wrapped_call_impl\u001b[39m\u001b[34m(self, *args, **kwargs)\u001b[39m\n\u001b[32m   1509\u001b[39m     \u001b[38;5;28;01mreturn\u001b[39;00m \u001b[38;5;28mself\u001b[39m._compiled_call_impl(*args, **kwargs)  \u001b[38;5;66;03m# type: ignore[misc]\u001b[39;00m\n\u001b[32m   1510\u001b[39m \u001b[38;5;28;01melse\u001b[39;00m:\n\u001b[32m-> \u001b[39m\u001b[32m1511\u001b[39m     \u001b[38;5;28;01mreturn\u001b[39;00m \u001b[38;5;28;43mself\u001b[39;49m\u001b[43m.\u001b[49m\u001b[43m_call_impl\u001b[49m\u001b[43m(\u001b[49m\u001b[43m*\u001b[49m\u001b[43margs\u001b[49m\u001b[43m,\u001b[49m\u001b[43m \u001b[49m\u001b[43m*\u001b[49m\u001b[43m*\u001b[49m\u001b[43mkwargs\u001b[49m\u001b[43m)\u001b[49m\n",
      "\u001b[36mFile \u001b[39m\u001b[32mc:\\Users\\manub\\.conda\\envs\\deep_learning_project\\Lib\\site-packages\\torch\\nn\\modules\\module.py:1520\u001b[39m, in \u001b[36mModule._call_impl\u001b[39m\u001b[34m(self, *args, **kwargs)\u001b[39m\n\u001b[32m   1515\u001b[39m \u001b[38;5;66;03m# If we don't have any hooks, we want to skip the rest of the logic in\u001b[39;00m\n\u001b[32m   1516\u001b[39m \u001b[38;5;66;03m# this function, and just call forward.\u001b[39;00m\n\u001b[32m   1517\u001b[39m \u001b[38;5;28;01mif\u001b[39;00m \u001b[38;5;129;01mnot\u001b[39;00m (\u001b[38;5;28mself\u001b[39m._backward_hooks \u001b[38;5;129;01mor\u001b[39;00m \u001b[38;5;28mself\u001b[39m._backward_pre_hooks \u001b[38;5;129;01mor\u001b[39;00m \u001b[38;5;28mself\u001b[39m._forward_hooks \u001b[38;5;129;01mor\u001b[39;00m \u001b[38;5;28mself\u001b[39m._forward_pre_hooks\n\u001b[32m   1518\u001b[39m         \u001b[38;5;129;01mor\u001b[39;00m _global_backward_pre_hooks \u001b[38;5;129;01mor\u001b[39;00m _global_backward_hooks\n\u001b[32m   1519\u001b[39m         \u001b[38;5;129;01mor\u001b[39;00m _global_forward_hooks \u001b[38;5;129;01mor\u001b[39;00m _global_forward_pre_hooks):\n\u001b[32m-> \u001b[39m\u001b[32m1520\u001b[39m     \u001b[38;5;28;01mreturn\u001b[39;00m \u001b[43mforward_call\u001b[49m\u001b[43m(\u001b[49m\u001b[43m*\u001b[49m\u001b[43margs\u001b[49m\u001b[43m,\u001b[49m\u001b[43m \u001b[49m\u001b[43m*\u001b[49m\u001b[43m*\u001b[49m\u001b[43mkwargs\u001b[49m\u001b[43m)\u001b[49m\n\u001b[32m   1522\u001b[39m \u001b[38;5;28;01mtry\u001b[39;00m:\n\u001b[32m   1523\u001b[39m     result = \u001b[38;5;28;01mNone\u001b[39;00m\n",
      "\u001b[36mFile \u001b[39m\u001b[32mc:\\Users\\manub\\.conda\\envs\\deep_learning_project\\Lib\\site-packages\\facenet_pytorch\\models\\inception_resnet_v1.py:177\u001b[39m, in \u001b[36mMixed_7a.forward\u001b[39m\u001b[34m(self, x)\u001b[39m\n\u001b[32m    175\u001b[39m \u001b[38;5;28;01mdef\u001b[39;00m\u001b[38;5;250m \u001b[39m\u001b[34mforward\u001b[39m(\u001b[38;5;28mself\u001b[39m, x):\n\u001b[32m    176\u001b[39m     x0 = \u001b[38;5;28mself\u001b[39m.branch0(x)\n\u001b[32m--> \u001b[39m\u001b[32m177\u001b[39m     x1 = \u001b[38;5;28;43mself\u001b[39;49m\u001b[43m.\u001b[49m\u001b[43mbranch1\u001b[49m\u001b[43m(\u001b[49m\u001b[43mx\u001b[49m\u001b[43m)\u001b[49m\n\u001b[32m    178\u001b[39m     x2 = \u001b[38;5;28mself\u001b[39m.branch2(x)\n\u001b[32m    179\u001b[39m     x3 = \u001b[38;5;28mself\u001b[39m.branch3(x)\n",
      "\u001b[36mFile \u001b[39m\u001b[32mc:\\Users\\manub\\.conda\\envs\\deep_learning_project\\Lib\\site-packages\\torch\\nn\\modules\\module.py:1511\u001b[39m, in \u001b[36mModule._wrapped_call_impl\u001b[39m\u001b[34m(self, *args, **kwargs)\u001b[39m\n\u001b[32m   1509\u001b[39m     \u001b[38;5;28;01mreturn\u001b[39;00m \u001b[38;5;28mself\u001b[39m._compiled_call_impl(*args, **kwargs)  \u001b[38;5;66;03m# type: ignore[misc]\u001b[39;00m\n\u001b[32m   1510\u001b[39m \u001b[38;5;28;01melse\u001b[39;00m:\n\u001b[32m-> \u001b[39m\u001b[32m1511\u001b[39m     \u001b[38;5;28;01mreturn\u001b[39;00m \u001b[38;5;28;43mself\u001b[39;49m\u001b[43m.\u001b[49m\u001b[43m_call_impl\u001b[49m\u001b[43m(\u001b[49m\u001b[43m*\u001b[49m\u001b[43margs\u001b[49m\u001b[43m,\u001b[49m\u001b[43m \u001b[49m\u001b[43m*\u001b[49m\u001b[43m*\u001b[49m\u001b[43mkwargs\u001b[49m\u001b[43m)\u001b[49m\n",
      "\u001b[36mFile \u001b[39m\u001b[32mc:\\Users\\manub\\.conda\\envs\\deep_learning_project\\Lib\\site-packages\\torch\\nn\\modules\\module.py:1520\u001b[39m, in \u001b[36mModule._call_impl\u001b[39m\u001b[34m(self, *args, **kwargs)\u001b[39m\n\u001b[32m   1515\u001b[39m \u001b[38;5;66;03m# If we don't have any hooks, we want to skip the rest of the logic in\u001b[39;00m\n\u001b[32m   1516\u001b[39m \u001b[38;5;66;03m# this function, and just call forward.\u001b[39;00m\n\u001b[32m   1517\u001b[39m \u001b[38;5;28;01mif\u001b[39;00m \u001b[38;5;129;01mnot\u001b[39;00m (\u001b[38;5;28mself\u001b[39m._backward_hooks \u001b[38;5;129;01mor\u001b[39;00m \u001b[38;5;28mself\u001b[39m._backward_pre_hooks \u001b[38;5;129;01mor\u001b[39;00m \u001b[38;5;28mself\u001b[39m._forward_hooks \u001b[38;5;129;01mor\u001b[39;00m \u001b[38;5;28mself\u001b[39m._forward_pre_hooks\n\u001b[32m   1518\u001b[39m         \u001b[38;5;129;01mor\u001b[39;00m _global_backward_pre_hooks \u001b[38;5;129;01mor\u001b[39;00m _global_backward_hooks\n\u001b[32m   1519\u001b[39m         \u001b[38;5;129;01mor\u001b[39;00m _global_forward_hooks \u001b[38;5;129;01mor\u001b[39;00m _global_forward_pre_hooks):\n\u001b[32m-> \u001b[39m\u001b[32m1520\u001b[39m     \u001b[38;5;28;01mreturn\u001b[39;00m \u001b[43mforward_call\u001b[49m\u001b[43m(\u001b[49m\u001b[43m*\u001b[49m\u001b[43margs\u001b[49m\u001b[43m,\u001b[49m\u001b[43m \u001b[49m\u001b[43m*\u001b[49m\u001b[43m*\u001b[49m\u001b[43mkwargs\u001b[49m\u001b[43m)\u001b[49m\n\u001b[32m   1522\u001b[39m \u001b[38;5;28;01mtry\u001b[39;00m:\n\u001b[32m   1523\u001b[39m     result = \u001b[38;5;28;01mNone\u001b[39;00m\n",
      "\u001b[36mFile \u001b[39m\u001b[32mc:\\Users\\manub\\.conda\\envs\\deep_learning_project\\Lib\\site-packages\\torch\\nn\\modules\\container.py:217\u001b[39m, in \u001b[36mSequential.forward\u001b[39m\u001b[34m(self, input)\u001b[39m\n\u001b[32m    215\u001b[39m \u001b[38;5;28;01mdef\u001b[39;00m\u001b[38;5;250m \u001b[39m\u001b[34mforward\u001b[39m(\u001b[38;5;28mself\u001b[39m, \u001b[38;5;28minput\u001b[39m):\n\u001b[32m    216\u001b[39m     \u001b[38;5;28;01mfor\u001b[39;00m module \u001b[38;5;129;01min\u001b[39;00m \u001b[38;5;28mself\u001b[39m:\n\u001b[32m--> \u001b[39m\u001b[32m217\u001b[39m         \u001b[38;5;28minput\u001b[39m = \u001b[43mmodule\u001b[49m\u001b[43m(\u001b[49m\u001b[38;5;28;43minput\u001b[39;49m\u001b[43m)\u001b[49m\n\u001b[32m    218\u001b[39m     \u001b[38;5;28;01mreturn\u001b[39;00m \u001b[38;5;28minput\u001b[39m\n",
      "\u001b[36mFile \u001b[39m\u001b[32mc:\\Users\\manub\\.conda\\envs\\deep_learning_project\\Lib\\site-packages\\torch\\nn\\modules\\module.py:1511\u001b[39m, in \u001b[36mModule._wrapped_call_impl\u001b[39m\u001b[34m(self, *args, **kwargs)\u001b[39m\n\u001b[32m   1509\u001b[39m     \u001b[38;5;28;01mreturn\u001b[39;00m \u001b[38;5;28mself\u001b[39m._compiled_call_impl(*args, **kwargs)  \u001b[38;5;66;03m# type: ignore[misc]\u001b[39;00m\n\u001b[32m   1510\u001b[39m \u001b[38;5;28;01melse\u001b[39;00m:\n\u001b[32m-> \u001b[39m\u001b[32m1511\u001b[39m     \u001b[38;5;28;01mreturn\u001b[39;00m \u001b[38;5;28;43mself\u001b[39;49m\u001b[43m.\u001b[49m\u001b[43m_call_impl\u001b[49m\u001b[43m(\u001b[49m\u001b[43m*\u001b[49m\u001b[43margs\u001b[49m\u001b[43m,\u001b[49m\u001b[43m \u001b[49m\u001b[43m*\u001b[49m\u001b[43m*\u001b[49m\u001b[43mkwargs\u001b[49m\u001b[43m)\u001b[49m\n",
      "\u001b[36mFile \u001b[39m\u001b[32mc:\\Users\\manub\\.conda\\envs\\deep_learning_project\\Lib\\site-packages\\torch\\nn\\modules\\module.py:1520\u001b[39m, in \u001b[36mModule._call_impl\u001b[39m\u001b[34m(self, *args, **kwargs)\u001b[39m\n\u001b[32m   1515\u001b[39m \u001b[38;5;66;03m# If we don't have any hooks, we want to skip the rest of the logic in\u001b[39;00m\n\u001b[32m   1516\u001b[39m \u001b[38;5;66;03m# this function, and just call forward.\u001b[39;00m\n\u001b[32m   1517\u001b[39m \u001b[38;5;28;01mif\u001b[39;00m \u001b[38;5;129;01mnot\u001b[39;00m (\u001b[38;5;28mself\u001b[39m._backward_hooks \u001b[38;5;129;01mor\u001b[39;00m \u001b[38;5;28mself\u001b[39m._backward_pre_hooks \u001b[38;5;129;01mor\u001b[39;00m \u001b[38;5;28mself\u001b[39m._forward_hooks \u001b[38;5;129;01mor\u001b[39;00m \u001b[38;5;28mself\u001b[39m._forward_pre_hooks\n\u001b[32m   1518\u001b[39m         \u001b[38;5;129;01mor\u001b[39;00m _global_backward_pre_hooks \u001b[38;5;129;01mor\u001b[39;00m _global_backward_hooks\n\u001b[32m   1519\u001b[39m         \u001b[38;5;129;01mor\u001b[39;00m _global_forward_hooks \u001b[38;5;129;01mor\u001b[39;00m _global_forward_pre_hooks):\n\u001b[32m-> \u001b[39m\u001b[32m1520\u001b[39m     \u001b[38;5;28;01mreturn\u001b[39;00m \u001b[43mforward_call\u001b[49m\u001b[43m(\u001b[49m\u001b[43m*\u001b[49m\u001b[43margs\u001b[49m\u001b[43m,\u001b[49m\u001b[43m \u001b[49m\u001b[43m*\u001b[49m\u001b[43m*\u001b[49m\u001b[43mkwargs\u001b[49m\u001b[43m)\u001b[49m\n\u001b[32m   1522\u001b[39m \u001b[38;5;28;01mtry\u001b[39;00m:\n\u001b[32m   1523\u001b[39m     result = \u001b[38;5;28;01mNone\u001b[39;00m\n",
      "\u001b[36mFile \u001b[39m\u001b[32mc:\\Users\\manub\\.conda\\envs\\deep_learning_project\\Lib\\site-packages\\facenet_pytorch\\models\\inception_resnet_v1.py:30\u001b[39m, in \u001b[36mBasicConv2d.forward\u001b[39m\u001b[34m(self, x)\u001b[39m\n\u001b[32m     29\u001b[39m \u001b[38;5;28;01mdef\u001b[39;00m\u001b[38;5;250m \u001b[39m\u001b[34mforward\u001b[39m(\u001b[38;5;28mself\u001b[39m, x):\n\u001b[32m---> \u001b[39m\u001b[32m30\u001b[39m     x = \u001b[38;5;28;43mself\u001b[39;49m\u001b[43m.\u001b[49m\u001b[43mconv\u001b[49m\u001b[43m(\u001b[49m\u001b[43mx\u001b[49m\u001b[43m)\u001b[49m\n\u001b[32m     31\u001b[39m     x = \u001b[38;5;28mself\u001b[39m.bn(x)\n\u001b[32m     32\u001b[39m     x = \u001b[38;5;28mself\u001b[39m.relu(x)\n",
      "\u001b[36mFile \u001b[39m\u001b[32mc:\\Users\\manub\\.conda\\envs\\deep_learning_project\\Lib\\site-packages\\torch\\nn\\modules\\module.py:1511\u001b[39m, in \u001b[36mModule._wrapped_call_impl\u001b[39m\u001b[34m(self, *args, **kwargs)\u001b[39m\n\u001b[32m   1509\u001b[39m     \u001b[38;5;28;01mreturn\u001b[39;00m \u001b[38;5;28mself\u001b[39m._compiled_call_impl(*args, **kwargs)  \u001b[38;5;66;03m# type: ignore[misc]\u001b[39;00m\n\u001b[32m   1510\u001b[39m \u001b[38;5;28;01melse\u001b[39;00m:\n\u001b[32m-> \u001b[39m\u001b[32m1511\u001b[39m     \u001b[38;5;28;01mreturn\u001b[39;00m \u001b[38;5;28;43mself\u001b[39;49m\u001b[43m.\u001b[49m\u001b[43m_call_impl\u001b[49m\u001b[43m(\u001b[49m\u001b[43m*\u001b[49m\u001b[43margs\u001b[49m\u001b[43m,\u001b[49m\u001b[43m \u001b[49m\u001b[43m*\u001b[49m\u001b[43m*\u001b[49m\u001b[43mkwargs\u001b[49m\u001b[43m)\u001b[49m\n",
      "\u001b[36mFile \u001b[39m\u001b[32mc:\\Users\\manub\\.conda\\envs\\deep_learning_project\\Lib\\site-packages\\torch\\nn\\modules\\module.py:1520\u001b[39m, in \u001b[36mModule._call_impl\u001b[39m\u001b[34m(self, *args, **kwargs)\u001b[39m\n\u001b[32m   1515\u001b[39m \u001b[38;5;66;03m# If we don't have any hooks, we want to skip the rest of the logic in\u001b[39;00m\n\u001b[32m   1516\u001b[39m \u001b[38;5;66;03m# this function, and just call forward.\u001b[39;00m\n\u001b[32m   1517\u001b[39m \u001b[38;5;28;01mif\u001b[39;00m \u001b[38;5;129;01mnot\u001b[39;00m (\u001b[38;5;28mself\u001b[39m._backward_hooks \u001b[38;5;129;01mor\u001b[39;00m \u001b[38;5;28mself\u001b[39m._backward_pre_hooks \u001b[38;5;129;01mor\u001b[39;00m \u001b[38;5;28mself\u001b[39m._forward_hooks \u001b[38;5;129;01mor\u001b[39;00m \u001b[38;5;28mself\u001b[39m._forward_pre_hooks\n\u001b[32m   1518\u001b[39m         \u001b[38;5;129;01mor\u001b[39;00m _global_backward_pre_hooks \u001b[38;5;129;01mor\u001b[39;00m _global_backward_hooks\n\u001b[32m   1519\u001b[39m         \u001b[38;5;129;01mor\u001b[39;00m _global_forward_hooks \u001b[38;5;129;01mor\u001b[39;00m _global_forward_pre_hooks):\n\u001b[32m-> \u001b[39m\u001b[32m1520\u001b[39m     \u001b[38;5;28;01mreturn\u001b[39;00m \u001b[43mforward_call\u001b[49m\u001b[43m(\u001b[49m\u001b[43m*\u001b[49m\u001b[43margs\u001b[49m\u001b[43m,\u001b[49m\u001b[43m \u001b[49m\u001b[43m*\u001b[49m\u001b[43m*\u001b[49m\u001b[43mkwargs\u001b[49m\u001b[43m)\u001b[49m\n\u001b[32m   1522\u001b[39m \u001b[38;5;28;01mtry\u001b[39;00m:\n\u001b[32m   1523\u001b[39m     result = \u001b[38;5;28;01mNone\u001b[39;00m\n",
      "\u001b[36mFile \u001b[39m\u001b[32mc:\\Users\\manub\\.conda\\envs\\deep_learning_project\\Lib\\site-packages\\torch\\nn\\modules\\conv.py:460\u001b[39m, in \u001b[36mConv2d.forward\u001b[39m\u001b[34m(self, input)\u001b[39m\n\u001b[32m    459\u001b[39m \u001b[38;5;28;01mdef\u001b[39;00m\u001b[38;5;250m \u001b[39m\u001b[34mforward\u001b[39m(\u001b[38;5;28mself\u001b[39m, \u001b[38;5;28minput\u001b[39m: Tensor) -> Tensor:\n\u001b[32m--> \u001b[39m\u001b[32m460\u001b[39m     \u001b[38;5;28;01mreturn\u001b[39;00m \u001b[38;5;28;43mself\u001b[39;49m\u001b[43m.\u001b[49m\u001b[43m_conv_forward\u001b[49m\u001b[43m(\u001b[49m\u001b[38;5;28;43minput\u001b[39;49m\u001b[43m,\u001b[49m\u001b[43m \u001b[49m\u001b[38;5;28;43mself\u001b[39;49m\u001b[43m.\u001b[49m\u001b[43mweight\u001b[49m\u001b[43m,\u001b[49m\u001b[43m \u001b[49m\u001b[38;5;28;43mself\u001b[39;49m\u001b[43m.\u001b[49m\u001b[43mbias\u001b[49m\u001b[43m)\u001b[49m\n",
      "\u001b[36mFile \u001b[39m\u001b[32mc:\\Users\\manub\\.conda\\envs\\deep_learning_project\\Lib\\site-packages\\torch\\nn\\modules\\conv.py:456\u001b[39m, in \u001b[36mConv2d._conv_forward\u001b[39m\u001b[34m(self, input, weight, bias)\u001b[39m\n\u001b[32m    452\u001b[39m \u001b[38;5;28;01mif\u001b[39;00m \u001b[38;5;28mself\u001b[39m.padding_mode != \u001b[33m'\u001b[39m\u001b[33mzeros\u001b[39m\u001b[33m'\u001b[39m:\n\u001b[32m    453\u001b[39m     \u001b[38;5;28;01mreturn\u001b[39;00m F.conv2d(F.pad(\u001b[38;5;28minput\u001b[39m, \u001b[38;5;28mself\u001b[39m._reversed_padding_repeated_twice, mode=\u001b[38;5;28mself\u001b[39m.padding_mode),\n\u001b[32m    454\u001b[39m                     weight, bias, \u001b[38;5;28mself\u001b[39m.stride,\n\u001b[32m    455\u001b[39m                     _pair(\u001b[32m0\u001b[39m), \u001b[38;5;28mself\u001b[39m.dilation, \u001b[38;5;28mself\u001b[39m.groups)\n\u001b[32m--> \u001b[39m\u001b[32m456\u001b[39m \u001b[38;5;28;01mreturn\u001b[39;00m \u001b[43mF\u001b[49m\u001b[43m.\u001b[49m\u001b[43mconv2d\u001b[49m\u001b[43m(\u001b[49m\u001b[38;5;28;43minput\u001b[39;49m\u001b[43m,\u001b[49m\u001b[43m \u001b[49m\u001b[43mweight\u001b[49m\u001b[43m,\u001b[49m\u001b[43m \u001b[49m\u001b[43mbias\u001b[49m\u001b[43m,\u001b[49m\u001b[43m \u001b[49m\u001b[38;5;28;43mself\u001b[39;49m\u001b[43m.\u001b[49m\u001b[43mstride\u001b[49m\u001b[43m,\u001b[49m\n\u001b[32m    457\u001b[39m \u001b[43m                \u001b[49m\u001b[38;5;28;43mself\u001b[39;49m\u001b[43m.\u001b[49m\u001b[43mpadding\u001b[49m\u001b[43m,\u001b[49m\u001b[43m \u001b[49m\u001b[38;5;28;43mself\u001b[39;49m\u001b[43m.\u001b[49m\u001b[43mdilation\u001b[49m\u001b[43m,\u001b[49m\u001b[43m \u001b[49m\u001b[38;5;28;43mself\u001b[39;49m\u001b[43m.\u001b[49m\u001b[43mgroups\u001b[49m\u001b[43m)\u001b[49m\n",
      "\u001b[31mKeyboardInterrupt\u001b[39m: "
     ]
    }
   ],
   "source": [
    "\n",
    "try:\n",
    "    import RPi.GPIO as GPIO\n",
    "    ON_PI = True\n",
    "except (ImportError, RuntimeError):\n",
    "    ON_PI = False \n",
    "\n",
    "def setup_relay(pin=17):\n",
    "    if ON_PI:\n",
    "        GPIO.setmode(GPIO.BCM)\n",
    "        GPIO.setup(pin, GPIO.OUT, initial=GPIO.LOW)\n",
    "    return pin\n",
    "\n",
    "def pulse_relay(pin, seconds=2):\n",
    "    if ON_PI:\n",
    "        GPIO.output(pin, GPIO.HIGH)\n",
    "        time.sleep(seconds)\n",
    "        GPIO.output(pin, GPIO.LOW)\n",
    "    else:\n",
    "        print(f\"🔓  Door unlocked (simulated) for {seconds}s\")\n",
    "\n",
    "\n",
    "\n",
    "ref_db = np.load(\"ref_db.npy\", allow_pickle=True).item()\n",
    "ref_db = {k: torch.tensor(v).to(device) for k, v in ref_db.items()}\n",
    "\n",
    "relay_pin = setup_relay(pin=17)\n",
    "θ         = 0.65\n",
    "\n",
    "cap = cv2.VideoCapture(0)\n",
    "assert cap.isOpened(), \"Camera not found\"\n",
    "\n",
    "def identify(frame_bgr):\n",
    "    face = mtcnn(cv2.cvtColor(frame_bgr, cv2.COLOR_BGR2RGB))\n",
    "    if face is None: return None, 0.0\n",
    "    vec  = embed(face.unsqueeze(0).to(device))[0]\n",
    "    vec  = vec / vec.norm()\n",
    "    name, score = max(\n",
    "        ((n, float(torch.dot(vec, e))) for n, e in ref_db.items()),\n",
    "        key=lambda t: t[1]\n",
    "    )\n",
    "    return (name, score) if score > θ else (None, score)\n",
    "\n",
    "print(\"▶️ Press ESC to quit\")\n",
    "try:\n",
    "    while True:\n",
    "        ok, frame = cap.read();  assert ok\n",
    "        user, sim = identify(frame)\n",
    "        if user:\n",
    "            print(f\"✅ {user} @ {time.strftime('%H:%M:%S')}  (sim={sim:.3f})\")\n",
    "            pulse_relay(relay_pin)\n",
    "        elif user is None and sim > 0.3:\n",
    "            print(f\"❌ Someone similar to an enrolled user detected, but not recognized. Access denied.\")\n",
    "        else:\n",
    "            print(f\"❌ Unknown face detected @ {time.strftime('%H:%M:%S')}  (sim={sim:.3f})\")\n",
    "        cv2.imshow(\"live\", frame)\n",
    "        if cv2.waitKey(1) & 0xFF == 27: break\n",
    "finally:\n",
    "    cap.release(); cv2.destroyAllWindows()\n",
    "    if ON_PI: GPIO.cleanup()"
   ]
  }
 ],
 "metadata": {
  "kernelspec": {
   "display_name": "deep_learning_project",
   "language": "python",
   "name": "python3"
  },
  "language_info": {
   "codemirror_mode": {
    "name": "ipython",
    "version": 3
   },
   "file_extension": ".py",
   "mimetype": "text/x-python",
   "name": "python",
   "nbconvert_exporter": "python",
   "pygments_lexer": "ipython3",
   "version": "3.11.13"
  }
 },
 "nbformat": 4,
 "nbformat_minor": 5
}
